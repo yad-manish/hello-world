{
 "cells": [
  {
   "cell_type": "code",
   "execution_count": 136,
   "metadata": {},
   "outputs": [],
   "source": [
    "import math\n",
    "from math import sqrt\n",
    "from datetime import datetime\n",
    "\n",
    "epoch = datetime(1970, 1, 1)\n",
    "\n",
    "def epoch_date(created_date):\n",
    "    td = created_date - epoch\n",
    "    return td.days\n",
    "\n",
    "def issued_date(created_date):\n",
    "    date = datetime.today()\n",
    "    td = date - created_date\n",
    "    if td.days < 2:\n",
    "        return 1 \n",
    "    else:\n",
    "        return td.days\n",
    "    \n",
    "def upDownDate(recentdate):\n",
    "    date = datetime.today()\n",
    "    td = date - recentdate\n",
    "    if td.days < 2:\n",
    "        return 1 \n",
    "    else:\n",
    "        return td.days\n",
    "    \n",
    "def _confidence(ups, downs, creationdate, activity_date, flag):\n",
    "    n = ups + downs\n",
    "\n",
    "    z = 1.281551565545\n",
    "    p = float(ups) / n\n",
    "\n",
    "    left = p + 1/(2*n)*z*z\n",
    "    right = z*sqrt(p*(1-p)/n + z*z/(4*n*n))\n",
    "    under = 1+1/n*z*z\n",
    "    score = (left - right) / under\n",
    "    if flag == 1:\n",
    "        confidence = score * (math.log10(epoch_date(creationdate)/issued_date(creationdate))+ math.log10(epoch_date(creationdate)/upDownDate(activity_date)))\n",
    "    else:\n",
    "        confidence = score * (math.log10(epoch_date(creationdate)/issued_date(creationdate))+ 0.9*math.log10(epoch_date(creationdate)/upDownDate(activity_date)))\n",
    "    return confidence\n",
    "    #return (left - right) / under\n",
    "                                                                                                                    \n",
    "    \n",
    "def confidence(ups, downs, creationdate, activity_date, flag):\n",
    "    if ups + downs == 0:\n",
    "        return 0.3*(math.log10(epoch_date(creationdate)/issued_date(creationdate)))\n",
    "    else:\n",
    "        return _confidence(ups, downs, creationdate, activity_date, flag)"
   ]
  },
  {
   "cell_type": "code",
   "execution_count": 1,
   "metadata": {},
   "outputs": [],
   "source": [
    "import pandas as pd"
   ]
  },
  {
   "cell_type": "code",
   "execution_count": 190,
   "metadata": {},
   "outputs": [
    {
     "name": "stdout",
     "output_type": "stream",
     "text": [
      "3.70886815362396\n",
      "5.19870056718321\n"
     ]
    }
   ],
   "source": [
    "\n",
    "#### comparison between new and old active responses\n",
    "\n",
    "creationdate = pd.to_datetime('2019-11-1')\n",
    "activity_date = pd.to_datetime('2019-12-27')\n",
    "print(confidence(40,20,creationdate, activity_date,0))\n",
    "\n",
    "\n",
    "creationdate = pd.to_datetime('2019-11-27')\n",
    "activity_date = pd.to_datetime('2019-12-27')\n",
    "print(confidence(10,1,creationdate, activity_date,1))"
   ]
  },
  {
   "cell_type": "code",
   "execution_count": 195,
   "metadata": {},
   "outputs": [
    {
     "name": "stdout",
     "output_type": "stream",
     "text": [
      "1.399894222582805\n",
      "3.2254546449778445\n",
      "1.2784288246678341\n"
     ]
    }
   ],
   "source": [
    "#### comparison between new responses\n",
    "\n",
    "creationdate = pd.to_datetime('2019-12-27')\n",
    "activity_date = pd.to_datetime('2019-12-27')\n",
    "\n",
    "print(confidence(1,1,creationdate,activity_date,1))\n",
    "print(confidence(1,0,creationdate,activity_date,1))\n",
    "print(confidence(0,0,creationdate,activity_date,0))"
   ]
  },
  {
   "cell_type": "code",
   "execution_count": null,
   "metadata": {},
   "outputs": [],
   "source": []
  }
 ],
 "metadata": {
  "kernelspec": {
   "display_name": "Python 3",
   "language": "python",
   "name": "python3"
  },
  "language_info": {
   "codemirror_mode": {
    "name": "ipython",
    "version": 3
   },
   "file_extension": ".py",
   "mimetype": "text/x-python",
   "name": "python",
   "nbconvert_exporter": "python",
   "pygments_lexer": "ipython3",
   "version": "3.7.3"
  }
 },
 "nbformat": 4,
 "nbformat_minor": 2
}
